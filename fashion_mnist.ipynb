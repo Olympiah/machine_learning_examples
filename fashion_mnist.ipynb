{
  "nbformat": 4,
  "nbformat_minor": 0,
  "metadata": {
    "colab": {
      "provenance": [],
      "include_colab_link": true
    },
    "kernelspec": {
      "name": "python3",
      "display_name": "Python 3"
    },
    "accelerator": "GPU",
    "gpuClass": "standard"
  },
  "cells": [
    {
      "cell_type": "markdown",
      "metadata": {
        "id": "view-in-github",
        "colab_type": "text"
      },
      "source": [
        "<a href=\"https://colab.research.google.com/github/Olympiah/machine_learning_examples/blob/master/fashion_mnist.ipynb\" target=\"_parent\"><img src=\"https://colab.research.google.com/assets/colab-badge.svg\" alt=\"Open In Colab\"/></a>"
      ]
    },
    {
      "metadata": {
        "id": "Se1CMIrWeOWn"
      },
      "cell_type": "markdown",
      "source": [
        "# **Classifying Clothing Images**"
      ]
    },
    {
      "metadata": {
        "id": "T4W0Ekpvcn1U"
      },
      "cell_type": "code",
      "source": [
        "# Import the necessary libraries\n",
        "import numpy as np\n",
        "import torch\n",
        "import matplotlib.pyplot as plt"
      ],
      "execution_count": null,
      "outputs": []
    },
    {
      "metadata": {
        "id": "A2BeI0yheafI"
      },
      "cell_type": "code",
      "source": [
        "# Loading the Fashion-MNIST dataset\n",
        "from torchvision import datasets, transforms\n",
        "\n",
        "# Define a transform to normalize the data\n",
        "transform = transforms.Compose([transforms.ToTensor(),\n",
        "                                transforms.Normalize((0.5, ), (0.5, ))\n",
        "                               ])\n",
        "\n",
        "# Download and load the training data\n",
        "trainset = datasets.FashionMNIST('MNIST_data/', download = True, train = True, transform = transform)\n",
        "testset = datasets.FashionMNIST('MNIST_data/', download = True, train = False, transform = transform)\n",
        "trainloader = torch.utils.data.DataLoader(trainset, batch_size = 64, shuffle = True)\n",
        "testloader = torch.utils.data.DataLoader(testset, batch_size = 64, shuffle = True)"
      ],
      "execution_count": null,
      "outputs": []
    },
    {
      "metadata": {
        "id": "7P-3bh9ajd9I",
        "outputId": "f1fc1a5f-51e8-4a64-8ccb-c2d66d4f4dce",
        "colab": {
          "base_uri": "https://localhost:8080/"
        }
      },
      "cell_type": "code",
      "source": [
        "# Examine a sample\n",
        "dataiter = iter(trainloader)\n",
        "images, labels = dataiter.next()\n",
        "print(type(images))\n",
        "print(images.shape)\n",
        "print(labels.shape)"
      ],
      "execution_count": null,
      "outputs": [
        {
          "output_type": "stream",
          "name": "stdout",
          "text": [
            "<class 'torch.Tensor'>\n",
            "torch.Size([64, 1, 28, 28])\n",
            "torch.Size([64])\n"
          ]
        }
      ]
    },
    {
      "metadata": {
        "id": "qLeSAPsJjysS",
        "outputId": "212228a1-c085-40b0-8d2c-b57e1b7214d9",
        "colab": {
          "base_uri": "https://localhost:8080/",
          "height": 283
        }
      },
      "cell_type": "code",
      "source": [
        "plt.imshow(images[1].numpy().squeeze(), cmap = 'Greys_r')"
      ],
      "execution_count": null,
      "outputs": [
        {
          "output_type": "execute_result",
          "data": {
            "text/plain": [
              "<matplotlib.image.AxesImage at 0x7fe24c8a4110>"
            ]
          },
          "metadata": {},
          "execution_count": 9
        },
        {
          "output_type": "display_data",
          "data": {
            "text/plain": [
              "<Figure size 432x288 with 1 Axes>"
            ],
            "image/png": "[encoded data removed]"
          },
          "metadata": {
            "needs_background": "light"
          }
        }
      ]
    },
    {
      "metadata": {
        "id": "4ds0thNgkCqF",
        "outputId": "7fc4e0ba-7cdb-4070-a38e-b3c5776cefbf",
        "colab": {
          "base_uri": "https://localhost:8080/"
        }
      },
      "cell_type": "code",
      "source": [
        "# Define the network architecture\n",
        "from torch import nn, optim\n",
        "import torch.nn.functional as F\n",
        "# define a Sequential model with at least 4 layers and include dropout\n",
        "model = nn.Sequential(\n",
        "                     )\n",
        "\n",
        "# Define the loss\n",
        "criterion = #todo\n",
        "\n",
        "# Define the optimizer\n",
        "optimizer = #todo\n",
        "\n",
        "# Define the epochs\n",
        "epochs = #todo\n",
        "\n",
        "train_losses, test_losses = [], []\n",
        "\n",
        "for e in range(epochs):\n",
        "  running_loss = 0\n",
        "  for images, labels in trainloader:\n",
        "    # Flatten Fashion-MNIST images into a 784 long vector\n",
        "    images = \n",
        "    \n",
        "    # Training pass\n",
        "    optimizer.zero_grad()\n",
        "    \n",
        "    output = \n",
        "    loss = \n",
        "    loss.backward()\n",
        "    optimizer.step()\n",
        "    \n",
        "    running_loss += loss.item()\n",
        "  else:\n",
        "    test_loss = 0\n",
        "    accuracy = 0\n",
        "    \n",
        "    # Turn off gradients for validation, saves memory and computation\n",
        "    with torch.no_grad():\n",
        "      # Set the model to evaluation mode\n",
        "      model.eval()\n",
        "      \n",
        "      # Validation pass\n",
        "      for images, labels in testloader:\n",
        "        images = images.view(images.shape[0], -1)\n",
        "        log_ps = model(images)\n",
        "        test_loss += criterion(log_ps, labels)\n",
        "        \n",
        "        ps = torch.exp(log_ps)\n",
        "        top_p, top_class = ps.topk(1, dim = 1)\n",
        "        equals = top_class == labels.view(*top_class.shape)\n",
        "        accuracy += torch.mean(equals.type(torch.FloatTensor))\n",
        "    \n",
        "    model.train()\n",
        "    train_losses.append(running_loss/len(trainloader))\n",
        "    test_losses.append(test_loss/len(testloader))\n",
        "    \n",
        "    print(\"Epoch: {}/{}..\".format(e+1, epochs),\n",
        "          \"Training loss: {:.3f}..\".format(running_loss/len(trainloader)),\n",
        "          \"Test loss: {:.3f}..\".format(test_loss/len(testloader)),\n",
        "          \"Test Accuracy: {:.3f}\".format(accuracy/len(testloader)))"
      ],
      "execution_count": null,
      "outputs": [
        {
          "output_type": "stream",
          "name": "stdout",
          "text": [
            "Epoch: 1/30.. Training loss: 0.589.. Test loss: 0.481.. Test Accuracy: 0.830\n",
            "Epoch: 2/30.. Training loss: 0.457.. Test loss: 0.413.. Test Accuracy: 0.855\n",
            "Epoch: 3/30.. Training loss: 0.424.. Test loss: 0.411.. Test Accuracy: 0.855\n",
            "Epoch: 4/30.. Training loss: 0.400.. Test loss: 0.391.. Test Accuracy: 0.860\n",
            "Epoch: 5/30.. Training loss: 0.382.. Test loss: 0.398.. Test Accuracy: 0.857\n",
            "Epoch: 6/30.. Training loss: 0.375.. Test loss: 0.376.. Test Accuracy: 0.862\n",
            "Epoch: 7/30.. Training loss: 0.363.. Test loss: 0.380.. Test Accuracy: 0.865\n",
            "Epoch: 8/30.. Training loss: 0.356.. Test loss: 0.373.. Test Accuracy: 0.868\n",
            "Epoch: 9/30.. Training loss: 0.348.. Test loss: 0.369.. Test Accuracy: 0.872\n",
            "Epoch: 10/30.. Training loss: 0.344.. Test loss: 0.367.. Test Accuracy: 0.868\n",
            "Epoch: 11/30.. Training loss: 0.345.. Test loss: 0.361.. Test Accuracy: 0.874\n",
            "Epoch: 12/30.. Training loss: 0.332.. Test loss: 0.367.. Test Accuracy: 0.868\n",
            "Epoch: 13/30.. Training loss: 0.332.. Test loss: 0.358.. Test Accuracy: 0.877\n",
            "Epoch: 14/30.. Training loss: 0.328.. Test loss: 0.368.. Test Accuracy: 0.867\n",
            "Epoch: 15/30.. Training loss: 0.322.. Test loss: 0.371.. Test Accuracy: 0.875\n",
            "Epoch: 16/30.. Training loss: 0.317.. Test loss: 0.372.. Test Accuracy: 0.877\n",
            "Epoch: 17/30.. Training loss: 0.321.. Test loss: 0.370.. Test Accuracy: 0.879\n",
            "Epoch: 18/30.. Training loss: 0.313.. Test loss: 0.348.. Test Accuracy: 0.878\n",
            "Epoch: 19/30.. Training loss: 0.314.. Test loss: 0.366.. Test Accuracy: 0.875\n",
            "Epoch: 20/30.. Training loss: 0.303.. Test loss: 0.354.. Test Accuracy: 0.882\n",
            "Epoch: 21/30.. Training loss: 0.299.. Test loss: 0.361.. Test Accuracy: 0.879\n",
            "Epoch: 22/30.. Training loss: 0.303.. Test loss: 0.345.. Test Accuracy: 0.885\n",
            "Epoch: 23/30.. Training loss: 0.294.. Test loss: 0.367.. Test Accuracy: 0.879\n",
            "Epoch: 24/30.. Training loss: 0.295.. Test loss: 0.355.. Test Accuracy: 0.879\n",
            "Epoch: 25/30.. Training loss: 0.293.. Test loss: 0.358.. Test Accuracy: 0.882\n",
            "Epoch: 26/30.. Training loss: 0.292.. Test loss: 0.354.. Test Accuracy: 0.884\n",
            "Epoch: 27/30.. Training loss: 0.296.. Test loss: 0.351.. Test Accuracy: 0.881\n",
            "Epoch: 28/30.. Training loss: 0.286.. Test loss: 0.372.. Test Accuracy: 0.879\n",
            "Epoch: 29/30.. Training loss: 0.285.. Test loss: 0.347.. Test Accuracy: 0.887\n",
            "Epoch: 30/30.. Training loss: 0.286.. Test loss: 0.348.. Test Accuracy: 0.886\n"
          ]
        }
      ]
    },
    {
      "metadata": {
        "id": "24VtkQ1ouMoc",
        "colab": {
          "base_uri": "https://localhost:8080/",
          "height": 284
        },
        "outputId": "9c520283-d4fd-425d-ae4c-1d4b9ecbfd47"
      },
      "cell_type": "code",
      "source": [
        "plt.plot(train_losses, label = \"Training loss\")\n",
        "plt.plot(test_losses, label = \"Validation loss\")\n",
        "plt.legend(frameon = False)"
      ],
      "execution_count": null,
      "outputs": [
        {
          "output_type": "execute_result",
          "data": {
            "text/plain": [
              "<matplotlib.legend.Legend at 0x7fe24c1bef90>"
            ]
          },
          "metadata": {},
          "execution_count": 11
        },
        {
          "output_type": "display_data",
          "data": {
            "text/plain": [
              "<Figure size 432x288 with 1 Axes>"
            ],
            "image/png": "[encoded data removed]"
          },
          "metadata": {
            "needs_background": "light"
          }
        }
      ]
    },
    {
      "metadata": {
        "id": "VWFPKRE3utWY"
      },
      "cell_type": "markdown",
      "source": [
        "**Overfitting**\n",
        "\n",
        "The training loss decreases with each epoch but the validation loss increases after some epochs. It is a clear case of overfitting. Solutions to tackle overfitting:\n",
        "\n",
        "1. Early stopping - From the graph it's clear that on stopping at 10 epochs I can get a better validation as well as training loss.\n",
        "\n",
        "2. Dropout - Randomly drop input units."
      ]
    },
    {
      "metadata": {
        "id": "WK_22fmKrZLP"
      },
      "cell_type": "code",
      "source": [
        "# Define view_classify function\n",
        "def view_classify(img, ps, version=\"MNIST\"):\n",
        "    ''' Function for viewing an image and it's predicted classes.\n",
        "    '''\n",
        "    ps = ps.data.numpy().squeeze()\n",
        "\n",
        "    fig, (ax1, ax2) = plt.subplots(figsize=(6,9), ncols=2)\n",
        "    ax1.imshow(img.resize_(1, 28, 28).numpy().squeeze())\n",
        "    ax1.axis('off')\n",
        "    ax2.barh(np.arange(10), ps)\n",
        "    ax2.set_aspect(0.1)\n",
        "    ax2.set_yticks(np.arange(10))\n",
        "    if version == \"MNIST\":\n",
        "        ax2.set_yticklabels(np.arange(10))\n",
        "    elif version == \"Fashion\":\n",
        "        ax2.set_yticklabels(['T-shirt/top',\n",
        "                            'Trouser',\n",
        "                            'Pullover',\n",
        "                            'Dress',\n",
        "                            'Coat',\n",
        "                            'Sandal',\n",
        "                            'Shirt',\n",
        "                            'Sneaker',\n",
        "                            'Bag',\n",
        "                            'Ankle Boot'], size='small');\n",
        "    ax2.set_title('Class Probability')\n",
        "    ax2.set_xlim(0, 1.1)\n",
        "\n",
        "    plt.tight_layout()"
      ],
      "execution_count": null,
      "outputs": []
    },
    {
      "metadata": {
        "id": "5ONxVOZWph31",
        "outputId": "839afb65-ce3c-485e-89a7-40b633e8b313",
        "colab": {
          "base_uri": "https://localhost:8080/",
          "height": 227
        }
      },
      "cell_type": "code",
      "source": [
        "%matplotlib inline\n",
        "%config InlineBackend.figure_format = 'retina'\n",
        "# Testing out the network\n",
        "dataiter = iter(testloader)\n",
        "images, labels = dataiter.next()\n",
        "img = images[0]\n",
        "\n",
        "# Convert 2D image to 1D vector\n",
        "img = img.resize_(1, 784)\n",
        "\n",
        "# Calculate the class probabilites (log softmax) for img\n",
        "ps = torch.exp(model(img))\n",
        "\n",
        "# Plot the image and probabilites\n",
        "view_classify(img, ps, version='Fashion')"
      ],
      "execution_count": null,
      "outputs": [
        {
          "output_type": "display_data",
          "data": {
            "image/png": "[encoded data removed]",
            "text/plain": [
              "<matplotlib.figure.Figure at 0x7f92460419e8>"
            ]
          },
          "metadata": {
            "tags": [],
            "image/png": {
              "width": 424,
              "height": 210
            }
          }
        }
      ]
    },
    {
      "metadata": {
        "id": "edL6diOAZfvy"
      },
      "cell_type": "markdown",
      "source": [
        "**Saving the model**"
      ]
    },
    {
      "metadata": {
        "id": "uFBOk5vCZhgx",
        "colab": {
          "base_uri": "https://localhost:8080/",
          "height": 360
        },
        "outputId": "74030597-81b5-45b0-a7f4-904ee205a3ea"
      },
      "cell_type": "code",
      "source": [
        "print(\"My model: \\n\\n\", model, \"\\n\")\n",
        "print(\"The state dict keys: \\n\\n\", model.state_dict().keys())"
      ],
      "execution_count": null,
      "outputs": [
        {
          "output_type": "stream",
          "text": [
            "My model: \n",
            "\n",
            " Sequential(\n",
            "  (0): Linear(in_features=784, out_features=256, bias=True)\n",
            "  (1): ReLU()\n",
            "  (2): Dropout(p=0.2)\n",
            "  (3): Linear(in_features=256, out_features=128, bias=True)\n",
            "  (4): ReLU()\n",
            "  (5): Dropout(p=0.2)\n",
            "  (6): Linear(in_features=128, out_features=64, bias=True)\n",
            "  (7): ReLU()\n",
            "  (8): Dropout(p=0.2)\n",
            "  (9): Linear(in_features=64, out_features=10, bias=True)\n",
            "  (10): LogSoftmax()\n",
            ") \n",
            "\n",
            "The state dict keys: \n",
            "\n",
            " odict_keys(['0.weight', '0.bias', '3.weight', '3.bias', '6.weight', '6.bias', '9.weight', '9.bias'])\n"
          ],
          "name": "stdout"
        }
      ]
    },
    {
      "metadata": {
        "id": "fA40S7qUaTM6"
      },
      "cell_type": "code",
      "source": [
        "# save the model "
      ],
      "execution_count": null,
      "outputs": []
    },
    {
      "metadata": {
        "id": "2TpaVitOaaP7"
      },
      "cell_type": "markdown",
      "source": [
        "**Load the saved model**"
      ]
    },
    {
      "metadata": {
        "id": "0rN-eNgPaZqm",
        "colab": {
          "base_uri": "https://localhost:8080/",
          "height": 54
        },
        "outputId": "6f66f656-3ed3-47ec-e7ab-ff2e99030959"
      },
      "cell_type": "code",
      "source": [
        "#load the saved model "
      ],
      "execution_count": null,
      "outputs": [
        {
          "output_type": "stream",
          "text": [
            "odict_keys(['0.weight', '0.bias', '3.weight', '3.bias', '6.weight', '6.bias', '9.weight', '9.bias'])\n"
          ],
          "name": "stdout"
        }
      ]
    }
  ]
}